{
 "cells": [
  {
   "cell_type": "markdown",
   "metadata": {},
   "source": [
    "<div style=\"width: 100%; overflow: hidden;\">\n",
    "    <div style=\"width: 150px; float: left;\"> <img src=\"https://raw.githubusercontent.com/DataForScience/Networks/master/data/D4Sci_logo_ball.png\" alt=\"Data For Science, Inc\" align=\"left\" border=\"0\" width=150px> </div>\n",
    "    <div style=\"float: left; margin-left: 10px;\"> <h1>Waterfall plot</h1>\n",
    "        <p>Bruno Gonçalves<br/>\n",
    "        <a href=\"http://www.data4sci.com/\">www.data4sci.com</a><br/>\n",
    "            @bgoncalves, @data4sci</p></div>\n",
    "</div>"
   ]
  },
  {
   "cell_type": "code",
   "execution_count": 1,
   "metadata": {},
   "outputs": [],
   "source": [
    "from collections import Counter\n",
    "from pprint import pprint\n",
    "\n",
    "import pandas as pd\n",
    "import numpy as np\n",
    "\n",
    "import matplotlib\n",
    "import matplotlib.pyplot as plt \n",
    "\n",
    "import tqdm as tq\n",
    "from tqdm import tqdm\n",
    "\n",
    "import watermark\n",
    "\n",
    "%load_ext watermark\n",
    "%matplotlib inline"
   ]
  },
  {
   "cell_type": "markdown",
   "metadata": {},
   "source": [
    "We start by print out the versions of the libraries we're using for future reference"
   ]
  },
  {
   "cell_type": "code",
   "execution_count": 2,
   "metadata": {},
   "outputs": [
    {
     "name": "stdout",
     "output_type": "stream",
     "text": [
      "Python implementation: CPython\n",
      "Python version       : 3.8.5\n",
      "IPython version      : 7.19.0\n",
      "\n",
      "Compiler    : Clang 10.0.0 \n",
      "OS          : Darwin\n",
      "Release     : 22.3.0\n",
      "Machine     : x86_64\n",
      "Processor   : i386\n",
      "CPU cores   : 16\n",
      "Architecture: 64bit\n",
      "\n",
      "Git hash: 46a933144768e79c6b180681141e8854607a4819\n",
      "\n",
      "tqdm      : 4.62.0\n",
      "numpy     : 1.19.2\n",
      "pandas    : 1.1.3\n",
      "matplotlib: 3.3.2\n",
      "watermark : 2.1.0\n",
      "json      : 2.0.9\n",
      "\n"
     ]
    }
   ],
   "source": [
    "%watermark -n -v -m -g -iv"
   ]
  },
  {
   "cell_type": "markdown",
   "metadata": {},
   "source": [
    "# Code"
   ]
  },
  {
   "cell_type": "markdown",
   "metadata": {},
   "source": [
    "We start by downloading the data for 2019 and 2020 directly from the [Bureau of Economic Analysis](https://www.bea.gov/) website. We'll focus on Table 14: \"Gross Domestic Product by Industry Group: Level and Change from Preceding Period\" as that includes the year to year change."
   ]
  },
  {
   "cell_type": "code",
   "execution_count": 3,
   "metadata": {},
   "outputs": [],
   "source": [
    "data = pd.read_excel('https://www.bea.gov/sites/default/files/2020-09/gdp2q20_3rd.xlsx',\n",
    "                     sheet_name='Table 14', skiprows=2, header=[0, 1, 2]\n",
    "                    ).dropna()"
   ]
  },
  {
   "cell_type": "markdown",
   "metadata": {},
   "source": [
    "Set the index to be the category names"
   ]
  },
  {
   "cell_type": "code",
   "execution_count": 4,
   "metadata": {},
   "outputs": [],
   "source": [
    "data.set_index(data.columns[1], inplace=True)"
   ]
  },
  {
   "cell_type": "markdown",
   "metadata": {},
   "source": [
    "Select the columns we're interested in"
   ]
  },
  {
   "cell_type": "code",
   "execution_count": 5,
   "metadata": {},
   "outputs": [],
   "source": [
    "select_columns = [col for col in data.columns\n",
    "                  if col[0] == 'Seasonally adjusted at annual rates'\n",
    "                 and col[2][-2] != '.' ]\n",
    "\n",
    "seasonal = data[select_columns].copy()"
   ]
  },
  {
   "cell_type": "markdown",
   "metadata": {},
   "source": [
    "Clean the column names"
   ]
  },
  {
   "cell_type": "code",
   "execution_count": 6,
   "metadata": {},
   "outputs": [],
   "source": [
    "column_names = [str(col[1])+'.'+col[2] for col in data.columns \n",
    "                  if col[0] == 'Seasonally adjusted at annual rates'\n",
    "                 and col[2][-2] != '.']"
   ]
  },
  {
   "cell_type": "markdown",
   "metadata": {},
   "source": [
    "Rename the columns"
   ]
  },
  {
   "cell_type": "code",
   "execution_count": 7,
   "metadata": {},
   "outputs": [],
   "source": [
    "seasonal.columns=column_names\n",
    "seasonal.index.name=None"
   ]
  },
  {
   "cell_type": "markdown",
   "metadata": {},
   "source": [
    "Remove subtotal rows"
   ]
  },
  {
   "cell_type": "code",
   "execution_count": 8,
   "metadata": {},
   "outputs": [],
   "source": [
    "subtotals=[\n",
    "    'Private industries', \n",
    "    'Manufacturing', \n",
    "    'Finance, insurance, real estate, rental, and leasing',\n",
    "    'Professional and business services',\n",
    "    'Educational services, health care, and social assistance',\n",
    "    'Arts, entertainment, recreation, accommodation, and food services',\n",
    "    'Government',\n",
    "    'Private goods-producing industries 1',\n",
    "    'Private services-producing industries 2'\n",
    "]\n",
    "\n",
    "seasonal.drop(index=subtotals, inplace=True)"
   ]
  },
  {
   "cell_type": "markdown",
   "metadata": {},
   "source": [
    "Keep only the columns we will use:"
   ]
  },
  {
   "cell_type": "code",
   "execution_count": 9,
   "metadata": {},
   "outputs": [],
   "source": [
    "seasonal = seasonal[['2019.Q2', '2020.Q2']].copy()"
   ]
  },
  {
   "cell_type": "markdown",
   "metadata": {},
   "source": [
    "And compute the change between them"
   ]
  },
  {
   "cell_type": "code",
   "execution_count": 10,
   "metadata": {},
   "outputs": [
    {
     "data": {
      "text/html": [
       "<div>\n",
       "<style scoped>\n",
       "    .dataframe tbody tr th:only-of-type {\n",
       "        vertical-align: middle;\n",
       "    }\n",
       "\n",
       "    .dataframe tbody tr th {\n",
       "        vertical-align: top;\n",
       "    }\n",
       "\n",
       "    .dataframe thead th {\n",
       "        text-align: right;\n",
       "    }\n",
       "</style>\n",
       "<table border=\"1\" class=\"dataframe\">\n",
       "  <thead>\n",
       "    <tr style=\"text-align: right;\">\n",
       "      <th></th>\n",
       "      <th>2019.Q2</th>\n",
       "      <th>2020.Q2</th>\n",
       "      <th>diff</th>\n",
       "    </tr>\n",
       "  </thead>\n",
       "  <tbody>\n",
       "    <tr>\n",
       "      <th>Gross domestic product</th>\n",
       "      <td>21329.9</td>\n",
       "      <td>19520.1</td>\n",
       "      <td>-1809.8</td>\n",
       "    </tr>\n",
       "    <tr>\n",
       "      <th>Agriculture, forestry, fishing, and hunting</th>\n",
       "      <td>172.8</td>\n",
       "      <td>142.4</td>\n",
       "      <td>-30.4</td>\n",
       "    </tr>\n",
       "    <tr>\n",
       "      <th>Mining</th>\n",
       "      <td>319.2</td>\n",
       "      <td>136.3</td>\n",
       "      <td>-182.9</td>\n",
       "    </tr>\n",
       "    <tr>\n",
       "      <th>Utilities</th>\n",
       "      <td>332.7</td>\n",
       "      <td>333.2</td>\n",
       "      <td>0.5</td>\n",
       "    </tr>\n",
       "    <tr>\n",
       "      <th>Construction</th>\n",
       "      <td>887.4</td>\n",
       "      <td>853.7</td>\n",
       "      <td>-33.7</td>\n",
       "    </tr>\n",
       "    <tr>\n",
       "      <th>Durable goods</th>\n",
       "      <td>1319.2</td>\n",
       "      <td>1145.5</td>\n",
       "      <td>-173.7</td>\n",
       "    </tr>\n",
       "    <tr>\n",
       "      <th>Nondurable goods</th>\n",
       "      <td>1021.5</td>\n",
       "      <td>908.2</td>\n",
       "      <td>-113.3</td>\n",
       "    </tr>\n",
       "    <tr>\n",
       "      <th>Wholesale trade</th>\n",
       "      <td>1253.8</td>\n",
       "      <td>1111.9</td>\n",
       "      <td>-141.9</td>\n",
       "    </tr>\n",
       "    <tr>\n",
       "      <th>Retail trade</th>\n",
       "      <td>1156.0</td>\n",
       "      <td>1102.1</td>\n",
       "      <td>-53.9</td>\n",
       "    </tr>\n",
       "    <tr>\n",
       "      <th>Transportation and warehousing</th>\n",
       "      <td>690.7</td>\n",
       "      <td>520.2</td>\n",
       "      <td>-170.5</td>\n",
       "    </tr>\n",
       "    <tr>\n",
       "      <th>Information</th>\n",
       "      <td>1122.3</td>\n",
       "      <td>1115.7</td>\n",
       "      <td>-6.6</td>\n",
       "    </tr>\n",
       "    <tr>\n",
       "      <th>Finance and insurance</th>\n",
       "      <td>1663.7</td>\n",
       "      <td>1699.8</td>\n",
       "      <td>36.1</td>\n",
       "    </tr>\n",
       "    <tr>\n",
       "      <th>Real estate and rental and leasing</th>\n",
       "      <td>2859.6</td>\n",
       "      <td>2864.8</td>\n",
       "      <td>5.2</td>\n",
       "    </tr>\n",
       "    <tr>\n",
       "      <th>Professional, scientific, and technical services</th>\n",
       "      <td>1624.9</td>\n",
       "      <td>1547.4</td>\n",
       "      <td>-77.5</td>\n",
       "    </tr>\n",
       "    <tr>\n",
       "      <th>Management of companies and enterprises</th>\n",
       "      <td>412.2</td>\n",
       "      <td>397.6</td>\n",
       "      <td>-14.6</td>\n",
       "    </tr>\n",
       "    <tr>\n",
       "      <th>Administrative and waste management services</th>\n",
       "      <td>656.1</td>\n",
       "      <td>579.9</td>\n",
       "      <td>-76.2</td>\n",
       "    </tr>\n",
       "    <tr>\n",
       "      <th>Educational services</th>\n",
       "      <td>267.9</td>\n",
       "      <td>244.6</td>\n",
       "      <td>-23.3</td>\n",
       "    </tr>\n",
       "    <tr>\n",
       "      <th>Health care and social assistance</th>\n",
       "      <td>1585.6</td>\n",
       "      <td>1374.9</td>\n",
       "      <td>-210.7</td>\n",
       "    </tr>\n",
       "    <tr>\n",
       "      <th>Arts, entertainment, and recreation</th>\n",
       "      <td>236.3</td>\n",
       "      <td>98.2</td>\n",
       "      <td>-138.1</td>\n",
       "    </tr>\n",
       "    <tr>\n",
       "      <th>Accommodation and food services</th>\n",
       "      <td>664.0</td>\n",
       "      <td>378.1</td>\n",
       "      <td>-285.9</td>\n",
       "    </tr>\n",
       "    <tr>\n",
       "      <th>Other services, except government</th>\n",
       "      <td>458.1</td>\n",
       "      <td>371.0</td>\n",
       "      <td>-87.1</td>\n",
       "    </tr>\n",
       "    <tr>\n",
       "      <th>Federal</th>\n",
       "      <td>809.8</td>\n",
       "      <td>837.7</td>\n",
       "      <td>27.9</td>\n",
       "    </tr>\n",
       "    <tr>\n",
       "      <th>State and local</th>\n",
       "      <td>1816.3</td>\n",
       "      <td>1756.9</td>\n",
       "      <td>-59.4</td>\n",
       "    </tr>\n",
       "  </tbody>\n",
       "</table>\n",
       "</div>"
      ],
      "text/plain": [
       "                                                  2019.Q2  2020.Q2    diff\n",
       "Gross domestic product                            21329.9  19520.1 -1809.8\n",
       "Agriculture, forestry, fishing, and hunting         172.8    142.4   -30.4\n",
       "Mining                                              319.2    136.3  -182.9\n",
       "Utilities                                           332.7    333.2     0.5\n",
       "Construction                                        887.4    853.7   -33.7\n",
       "Durable goods                                      1319.2   1145.5  -173.7\n",
       "Nondurable goods                                   1021.5    908.2  -113.3\n",
       "Wholesale trade                                    1253.8   1111.9  -141.9\n",
       "Retail trade                                       1156.0   1102.1   -53.9\n",
       "Transportation and warehousing                      690.7    520.2  -170.5\n",
       "Information                                        1122.3   1115.7    -6.6\n",
       "Finance and insurance                              1663.7   1699.8    36.1\n",
       "Real estate and rental and leasing                 2859.6   2864.8     5.2\n",
       "Professional, scientific, and technical services   1624.9   1547.4   -77.5\n",
       "Management of companies and enterprises             412.2    397.6   -14.6\n",
       "Administrative and waste management services        656.1    579.9   -76.2\n",
       "Educational services                                267.9    244.6   -23.3\n",
       "Health care and social assistance                  1585.6   1374.9  -210.7\n",
       "Arts, entertainment, and recreation                 236.3     98.2  -138.1\n",
       "Accommodation and food services                     664.0    378.1  -285.9\n",
       "Other services, except government                   458.1    371.0   -87.1\n",
       "Federal                                             809.8    837.7    27.9\n",
       "State and local                                    1816.3   1756.9   -59.4"
      ]
     },
     "execution_count": 10,
     "metadata": {},
     "output_type": "execute_result"
    }
   ],
   "source": [
    "seasonal['diff'] = seasonal[['2019.Q2', '2020.Q2']].apply(lambda x:x[1]-x[0], axis=1)\n",
    "seasonal"
   ]
  },
  {
   "cell_type": "markdown",
   "metadata": {},
   "source": [
    "Append the total values at the bottom of the DataFrame"
   ]
  },
  {
   "cell_type": "code",
   "execution_count": 11,
   "metadata": {},
   "outputs": [],
   "source": [
    "seasonal = pd.concat([seasonal, seasonal.iloc[[0]]], axis=0)"
   ]
  },
  {
   "cell_type": "markdown",
   "metadata": {},
   "source": [
    "Update the row names"
   ]
  },
  {
   "cell_type": "code",
   "execution_count": 12,
   "metadata": {},
   "outputs": [
    {
     "data": {
      "text/html": [
       "<div>\n",
       "<style scoped>\n",
       "    .dataframe tbody tr th:only-of-type {\n",
       "        vertical-align: middle;\n",
       "    }\n",
       "\n",
       "    .dataframe tbody tr th {\n",
       "        vertical-align: top;\n",
       "    }\n",
       "\n",
       "    .dataframe thead th {\n",
       "        text-align: right;\n",
       "    }\n",
       "</style>\n",
       "<table border=\"1\" class=\"dataframe\">\n",
       "  <thead>\n",
       "    <tr style=\"text-align: right;\">\n",
       "      <th></th>\n",
       "      <th>2019.Q2</th>\n",
       "      <th>2020.Q2</th>\n",
       "      <th>diff</th>\n",
       "    </tr>\n",
       "  </thead>\n",
       "  <tbody>\n",
       "    <tr>\n",
       "      <th>2019</th>\n",
       "      <td>21329.9</td>\n",
       "      <td>19520.1</td>\n",
       "      <td>-1809.8</td>\n",
       "    </tr>\n",
       "    <tr>\n",
       "      <th>Agriculture, forestry, fishing, and hunting</th>\n",
       "      <td>172.8</td>\n",
       "      <td>142.4</td>\n",
       "      <td>-30.4</td>\n",
       "    </tr>\n",
       "    <tr>\n",
       "      <th>Mining</th>\n",
       "      <td>319.2</td>\n",
       "      <td>136.3</td>\n",
       "      <td>-182.9</td>\n",
       "    </tr>\n",
       "    <tr>\n",
       "      <th>Utilities</th>\n",
       "      <td>332.7</td>\n",
       "      <td>333.2</td>\n",
       "      <td>0.5</td>\n",
       "    </tr>\n",
       "    <tr>\n",
       "      <th>Construction</th>\n",
       "      <td>887.4</td>\n",
       "      <td>853.7</td>\n",
       "      <td>-33.7</td>\n",
       "    </tr>\n",
       "    <tr>\n",
       "      <th>Durable goods</th>\n",
       "      <td>1319.2</td>\n",
       "      <td>1145.5</td>\n",
       "      <td>-173.7</td>\n",
       "    </tr>\n",
       "    <tr>\n",
       "      <th>Nondurable goods</th>\n",
       "      <td>1021.5</td>\n",
       "      <td>908.2</td>\n",
       "      <td>-113.3</td>\n",
       "    </tr>\n",
       "    <tr>\n",
       "      <th>Wholesale trade</th>\n",
       "      <td>1253.8</td>\n",
       "      <td>1111.9</td>\n",
       "      <td>-141.9</td>\n",
       "    </tr>\n",
       "    <tr>\n",
       "      <th>Retail trade</th>\n",
       "      <td>1156.0</td>\n",
       "      <td>1102.1</td>\n",
       "      <td>-53.9</td>\n",
       "    </tr>\n",
       "    <tr>\n",
       "      <th>Transportation and warehousing</th>\n",
       "      <td>690.7</td>\n",
       "      <td>520.2</td>\n",
       "      <td>-170.5</td>\n",
       "    </tr>\n",
       "    <tr>\n",
       "      <th>Information</th>\n",
       "      <td>1122.3</td>\n",
       "      <td>1115.7</td>\n",
       "      <td>-6.6</td>\n",
       "    </tr>\n",
       "    <tr>\n",
       "      <th>Finance and insurance</th>\n",
       "      <td>1663.7</td>\n",
       "      <td>1699.8</td>\n",
       "      <td>36.1</td>\n",
       "    </tr>\n",
       "    <tr>\n",
       "      <th>Real estate and rental and leasing</th>\n",
       "      <td>2859.6</td>\n",
       "      <td>2864.8</td>\n",
       "      <td>5.2</td>\n",
       "    </tr>\n",
       "    <tr>\n",
       "      <th>Professional, scientific, and technical services</th>\n",
       "      <td>1624.9</td>\n",
       "      <td>1547.4</td>\n",
       "      <td>-77.5</td>\n",
       "    </tr>\n",
       "    <tr>\n",
       "      <th>Management of companies and enterprises</th>\n",
       "      <td>412.2</td>\n",
       "      <td>397.6</td>\n",
       "      <td>-14.6</td>\n",
       "    </tr>\n",
       "    <tr>\n",
       "      <th>Administrative and waste management services</th>\n",
       "      <td>656.1</td>\n",
       "      <td>579.9</td>\n",
       "      <td>-76.2</td>\n",
       "    </tr>\n",
       "    <tr>\n",
       "      <th>Educational services</th>\n",
       "      <td>267.9</td>\n",
       "      <td>244.6</td>\n",
       "      <td>-23.3</td>\n",
       "    </tr>\n",
       "    <tr>\n",
       "      <th>Health care and social assistance</th>\n",
       "      <td>1585.6</td>\n",
       "      <td>1374.9</td>\n",
       "      <td>-210.7</td>\n",
       "    </tr>\n",
       "    <tr>\n",
       "      <th>Arts, entertainment, and recreation</th>\n",
       "      <td>236.3</td>\n",
       "      <td>98.2</td>\n",
       "      <td>-138.1</td>\n",
       "    </tr>\n",
       "    <tr>\n",
       "      <th>Accommodation and food services</th>\n",
       "      <td>664.0</td>\n",
       "      <td>378.1</td>\n",
       "      <td>-285.9</td>\n",
       "    </tr>\n",
       "    <tr>\n",
       "      <th>Other services, except government</th>\n",
       "      <td>458.1</td>\n",
       "      <td>371.0</td>\n",
       "      <td>-87.1</td>\n",
       "    </tr>\n",
       "    <tr>\n",
       "      <th>Federal</th>\n",
       "      <td>809.8</td>\n",
       "      <td>837.7</td>\n",
       "      <td>27.9</td>\n",
       "    </tr>\n",
       "    <tr>\n",
       "      <th>State and local</th>\n",
       "      <td>1816.3</td>\n",
       "      <td>1756.9</td>\n",
       "      <td>-59.4</td>\n",
       "    </tr>\n",
       "    <tr>\n",
       "      <th>2020</th>\n",
       "      <td>21329.9</td>\n",
       "      <td>19520.1</td>\n",
       "      <td>-1809.8</td>\n",
       "    </tr>\n",
       "  </tbody>\n",
       "</table>\n",
       "</div>"
      ],
      "text/plain": [
       "                                                  2019.Q2  2020.Q2    diff\n",
       "2019                                              21329.9  19520.1 -1809.8\n",
       "Agriculture, forestry, fishing, and hunting         172.8    142.4   -30.4\n",
       "Mining                                              319.2    136.3  -182.9\n",
       "Utilities                                           332.7    333.2     0.5\n",
       "Construction                                        887.4    853.7   -33.7\n",
       "Durable goods                                      1319.2   1145.5  -173.7\n",
       "Nondurable goods                                   1021.5    908.2  -113.3\n",
       "Wholesale trade                                    1253.8   1111.9  -141.9\n",
       "Retail trade                                       1156.0   1102.1   -53.9\n",
       "Transportation and warehousing                      690.7    520.2  -170.5\n",
       "Information                                        1122.3   1115.7    -6.6\n",
       "Finance and insurance                              1663.7   1699.8    36.1\n",
       "Real estate and rental and leasing                 2859.6   2864.8     5.2\n",
       "Professional, scientific, and technical services   1624.9   1547.4   -77.5\n",
       "Management of companies and enterprises             412.2    397.6   -14.6\n",
       "Administrative and waste management services        656.1    579.9   -76.2\n",
       "Educational services                                267.9    244.6   -23.3\n",
       "Health care and social assistance                  1585.6   1374.9  -210.7\n",
       "Arts, entertainment, and recreation                 236.3     98.2  -138.1\n",
       "Accommodation and food services                     664.0    378.1  -285.9\n",
       "Other services, except government                   458.1    371.0   -87.1\n",
       "Federal                                             809.8    837.7    27.9\n",
       "State and local                                    1816.3   1756.9   -59.4\n",
       "2020                                              21329.9  19520.1 -1809.8"
      ]
     },
     "execution_count": 12,
     "metadata": {},
     "output_type": "execute_result"
    }
   ],
   "source": [
    "row_names = list(seasonal.index)\n",
    "row_names[0] = '2019'\n",
    "row_names[-1] = '2020'\n",
    "seasonal.index=row_names\n",
    "\n",
    "seasonal"
   ]
  },
  {
   "cell_type": "markdown",
   "metadata": {},
   "source": [
    "Fix the first and last rows of the diff column to be the totals instead of the changes"
   ]
  },
  {
   "cell_type": "code",
   "execution_count": 13,
   "metadata": {},
   "outputs": [],
   "source": [
    "seasonal.loc['2019', 'diff'] = seasonal.loc['2019', '2019.Q2']\n",
    "seasonal.loc['2020', 'diff'] = seasonal.loc['2020', '2020.Q2']"
   ]
  },
  {
   "cell_type": "markdown",
   "metadata": {},
   "source": [
    "Extract the diff column and add a sequential index to use as the x coordinate"
   ]
  },
  {
   "cell_type": "code",
   "execution_count": 14,
   "metadata": {},
   "outputs": [],
   "source": [
    "waterfall = seasonal[['diff']].copy()\n",
    "waterfall['pos'] = np.arange(waterfall.shape[0])"
   ]
  },
  {
   "cell_type": "markdown",
   "metadata": {},
   "source": [
    "Compute the top and bottom of each individual bar. For this we must calculate the cumulative sum, starting from the original value and adding each difference in turn until we reach the final value. These values determine the range of each bar"
   ]
  },
  {
   "cell_type": "code",
   "execution_count": 15,
   "metadata": {},
   "outputs": [],
   "source": [
    "waterfall['bottom'] = waterfall['diff'].shift(1).cumsum()\n",
    "waterfall['top'] = waterfall['diff'].cumsum()\n",
    "waterfall.fillna(0, inplace=True)"
   ]
  },
  {
   "cell_type": "markdown",
   "metadata": {},
   "source": [
    "Adjust the final value positions"
   ]
  },
  {
   "cell_type": "code",
   "execution_count": 16,
   "metadata": {},
   "outputs": [
    {
     "data": {
      "text/html": [
       "<div>\n",
       "<style scoped>\n",
       "    .dataframe tbody tr th:only-of-type {\n",
       "        vertical-align: middle;\n",
       "    }\n",
       "\n",
       "    .dataframe tbody tr th {\n",
       "        vertical-align: top;\n",
       "    }\n",
       "\n",
       "    .dataframe thead th {\n",
       "        text-align: right;\n",
       "    }\n",
       "</style>\n",
       "<table border=\"1\" class=\"dataframe\">\n",
       "  <thead>\n",
       "    <tr style=\"text-align: right;\">\n",
       "      <th></th>\n",
       "      <th>diff</th>\n",
       "      <th>pos</th>\n",
       "      <th>bottom</th>\n",
       "      <th>top</th>\n",
       "    </tr>\n",
       "  </thead>\n",
       "  <tbody>\n",
       "    <tr>\n",
       "      <th>2019</th>\n",
       "      <td>21329.9</td>\n",
       "      <td>0</td>\n",
       "      <td>0.0</td>\n",
       "      <td>21329.9</td>\n",
       "    </tr>\n",
       "    <tr>\n",
       "      <th>Agriculture, forestry, fishing, and hunting</th>\n",
       "      <td>-30.4</td>\n",
       "      <td>1</td>\n",
       "      <td>21329.9</td>\n",
       "      <td>21299.5</td>\n",
       "    </tr>\n",
       "    <tr>\n",
       "      <th>Mining</th>\n",
       "      <td>-182.9</td>\n",
       "      <td>2</td>\n",
       "      <td>21299.5</td>\n",
       "      <td>21116.6</td>\n",
       "    </tr>\n",
       "    <tr>\n",
       "      <th>Utilities</th>\n",
       "      <td>0.5</td>\n",
       "      <td>3</td>\n",
       "      <td>21116.6</td>\n",
       "      <td>21117.1</td>\n",
       "    </tr>\n",
       "    <tr>\n",
       "      <th>Construction</th>\n",
       "      <td>-33.7</td>\n",
       "      <td>4</td>\n",
       "      <td>21117.1</td>\n",
       "      <td>21083.4</td>\n",
       "    </tr>\n",
       "    <tr>\n",
       "      <th>Durable goods</th>\n",
       "      <td>-173.7</td>\n",
       "      <td>5</td>\n",
       "      <td>21083.4</td>\n",
       "      <td>20909.7</td>\n",
       "    </tr>\n",
       "    <tr>\n",
       "      <th>Nondurable goods</th>\n",
       "      <td>-113.3</td>\n",
       "      <td>6</td>\n",
       "      <td>20909.7</td>\n",
       "      <td>20796.4</td>\n",
       "    </tr>\n",
       "    <tr>\n",
       "      <th>Wholesale trade</th>\n",
       "      <td>-141.9</td>\n",
       "      <td>7</td>\n",
       "      <td>20796.4</td>\n",
       "      <td>20654.5</td>\n",
       "    </tr>\n",
       "    <tr>\n",
       "      <th>Retail trade</th>\n",
       "      <td>-53.9</td>\n",
       "      <td>8</td>\n",
       "      <td>20654.5</td>\n",
       "      <td>20600.6</td>\n",
       "    </tr>\n",
       "    <tr>\n",
       "      <th>Transportation and warehousing</th>\n",
       "      <td>-170.5</td>\n",
       "      <td>9</td>\n",
       "      <td>20600.6</td>\n",
       "      <td>20430.1</td>\n",
       "    </tr>\n",
       "    <tr>\n",
       "      <th>Information</th>\n",
       "      <td>-6.6</td>\n",
       "      <td>10</td>\n",
       "      <td>20430.1</td>\n",
       "      <td>20423.5</td>\n",
       "    </tr>\n",
       "    <tr>\n",
       "      <th>Finance and insurance</th>\n",
       "      <td>36.1</td>\n",
       "      <td>11</td>\n",
       "      <td>20423.5</td>\n",
       "      <td>20459.6</td>\n",
       "    </tr>\n",
       "    <tr>\n",
       "      <th>Real estate and rental and leasing</th>\n",
       "      <td>5.2</td>\n",
       "      <td>12</td>\n",
       "      <td>20459.6</td>\n",
       "      <td>20464.8</td>\n",
       "    </tr>\n",
       "    <tr>\n",
       "      <th>Professional, scientific, and technical services</th>\n",
       "      <td>-77.5</td>\n",
       "      <td>13</td>\n",
       "      <td>20464.8</td>\n",
       "      <td>20387.3</td>\n",
       "    </tr>\n",
       "    <tr>\n",
       "      <th>Management of companies and enterprises</th>\n",
       "      <td>-14.6</td>\n",
       "      <td>14</td>\n",
       "      <td>20387.3</td>\n",
       "      <td>20372.7</td>\n",
       "    </tr>\n",
       "    <tr>\n",
       "      <th>Administrative and waste management services</th>\n",
       "      <td>-76.2</td>\n",
       "      <td>15</td>\n",
       "      <td>20372.7</td>\n",
       "      <td>20296.5</td>\n",
       "    </tr>\n",
       "    <tr>\n",
       "      <th>Educational services</th>\n",
       "      <td>-23.3</td>\n",
       "      <td>16</td>\n",
       "      <td>20296.5</td>\n",
       "      <td>20273.2</td>\n",
       "    </tr>\n",
       "    <tr>\n",
       "      <th>Health care and social assistance</th>\n",
       "      <td>-210.7</td>\n",
       "      <td>17</td>\n",
       "      <td>20273.2</td>\n",
       "      <td>20062.5</td>\n",
       "    </tr>\n",
       "    <tr>\n",
       "      <th>Arts, entertainment, and recreation</th>\n",
       "      <td>-138.1</td>\n",
       "      <td>18</td>\n",
       "      <td>20062.5</td>\n",
       "      <td>19924.4</td>\n",
       "    </tr>\n",
       "    <tr>\n",
       "      <th>Accommodation and food services</th>\n",
       "      <td>-285.9</td>\n",
       "      <td>19</td>\n",
       "      <td>19924.4</td>\n",
       "      <td>19638.5</td>\n",
       "    </tr>\n",
       "    <tr>\n",
       "      <th>Other services, except government</th>\n",
       "      <td>-87.1</td>\n",
       "      <td>20</td>\n",
       "      <td>19638.5</td>\n",
       "      <td>19551.4</td>\n",
       "    </tr>\n",
       "    <tr>\n",
       "      <th>Federal</th>\n",
       "      <td>27.9</td>\n",
       "      <td>21</td>\n",
       "      <td>19551.4</td>\n",
       "      <td>19579.3</td>\n",
       "    </tr>\n",
       "    <tr>\n",
       "      <th>State and local</th>\n",
       "      <td>-59.4</td>\n",
       "      <td>22</td>\n",
       "      <td>19579.3</td>\n",
       "      <td>19519.9</td>\n",
       "    </tr>\n",
       "    <tr>\n",
       "      <th>2020</th>\n",
       "      <td>19520.1</td>\n",
       "      <td>23</td>\n",
       "      <td>0.0</td>\n",
       "      <td>19520.1</td>\n",
       "    </tr>\n",
       "  </tbody>\n",
       "</table>\n",
       "</div>"
      ],
      "text/plain": [
       "                                                     diff  pos   bottom  \\\n",
       "2019                                              21329.9    0      0.0   \n",
       "Agriculture, forestry, fishing, and hunting         -30.4    1  21329.9   \n",
       "Mining                                             -182.9    2  21299.5   \n",
       "Utilities                                             0.5    3  21116.6   \n",
       "Construction                                        -33.7    4  21117.1   \n",
       "Durable goods                                      -173.7    5  21083.4   \n",
       "Nondurable goods                                   -113.3    6  20909.7   \n",
       "Wholesale trade                                    -141.9    7  20796.4   \n",
       "Retail trade                                        -53.9    8  20654.5   \n",
       "Transportation and warehousing                     -170.5    9  20600.6   \n",
       "Information                                          -6.6   10  20430.1   \n",
       "Finance and insurance                                36.1   11  20423.5   \n",
       "Real estate and rental and leasing                    5.2   12  20459.6   \n",
       "Professional, scientific, and technical services    -77.5   13  20464.8   \n",
       "Management of companies and enterprises             -14.6   14  20387.3   \n",
       "Administrative and waste management services        -76.2   15  20372.7   \n",
       "Educational services                                -23.3   16  20296.5   \n",
       "Health care and social assistance                  -210.7   17  20273.2   \n",
       "Arts, entertainment, and recreation                -138.1   18  20062.5   \n",
       "Accommodation and food services                    -285.9   19  19924.4   \n",
       "Other services, except government                   -87.1   20  19638.5   \n",
       "Federal                                              27.9   21  19551.4   \n",
       "State and local                                     -59.4   22  19579.3   \n",
       "2020                                              19520.1   23      0.0   \n",
       "\n",
       "                                                      top  \n",
       "2019                                              21329.9  \n",
       "Agriculture, forestry, fishing, and hunting       21299.5  \n",
       "Mining                                            21116.6  \n",
       "Utilities                                         21117.1  \n",
       "Construction                                      21083.4  \n",
       "Durable goods                                     20909.7  \n",
       "Nondurable goods                                  20796.4  \n",
       "Wholesale trade                                   20654.5  \n",
       "Retail trade                                      20600.6  \n",
       "Transportation and warehousing                    20430.1  \n",
       "Information                                       20423.5  \n",
       "Finance and insurance                             20459.6  \n",
       "Real estate and rental and leasing                20464.8  \n",
       "Professional, scientific, and technical services  20387.3  \n",
       "Management of companies and enterprises           20372.7  \n",
       "Administrative and waste management services      20296.5  \n",
       "Educational services                              20273.2  \n",
       "Health care and social assistance                 20062.5  \n",
       "Arts, entertainment, and recreation               19924.4  \n",
       "Accommodation and food services                   19638.5  \n",
       "Other services, except government                 19551.4  \n",
       "Federal                                           19579.3  \n",
       "State and local                                   19519.9  \n",
       "2020                                              19520.1  "
      ]
     },
     "execution_count": 16,
     "metadata": {},
     "output_type": "execute_result"
    }
   ],
   "source": [
    "waterfall.loc['2020', 'bottom'] = 0\n",
    "waterfall.loc['2020', 'top'] = waterfall.loc['2020', 'diff']\n",
    "waterfall"
   ]
  },
  {
   "cell_type": "markdown",
   "metadata": {},
   "source": [
    "Extract the x values"
   ]
  },
  {
   "cell_type": "code",
   "execution_count": 17,
   "metadata": {},
   "outputs": [],
   "source": [
    "pos = [waterfall.pos[:-1], # x-values\n",
    "       waterfall.pos[1:]]"
   ]
  },
  {
   "cell_type": "markdown",
   "metadata": {},
   "source": [
    "Compute the color of each bar. Positive changes are shown in green and negative differences in red. The initial and final totals are in purple."
   ]
  },
  {
   "cell_type": "code",
   "execution_count": 18,
   "metadata": {},
   "outputs": [],
   "source": [
    "bar_colors = ['#cf51f9'] + \\\n",
    "['#70bf41' if value > 0 else '#f9517b' for value in waterfall['diff'][1:-1]] + \\\n",
    "['#cf51f9']"
   ]
  },
  {
   "cell_type": "markdown",
   "metadata": {},
   "source": [
    "Utility function to add the value labels above each bar"
   ]
  },
  {
   "cell_type": "code",
   "execution_count": 19,
   "metadata": {},
   "outputs": [],
   "source": [
    "def draw_labels(x):\n",
    "    ax = plt.gca()\n",
    "    \n",
    "    ax.text(x=x['pos'], y=max([x['top'],x['bottom']]), \n",
    "            s='%u' % x['diff'],\n",
    "            verticalalignment='bottom', \n",
    "            horizontalalignment='center',\n",
    "           fontsize=16)"
   ]
  },
  {
   "cell_type": "markdown",
   "metadata": {},
   "source": [
    "Generate the final figure"
   ]
  },
  {
   "cell_type": "code",
   "execution_count": 20,
   "metadata": {
    "scrolled": false
   },
   "outputs": [
    {
     "data": {
      "image/png": "[encoded data removed]",
      "text/plain": [
       "<Figure size 1152x1152 with 1 Axes>"
      ]
     },
     "metadata": {
      "needs_background": "light"
     },
     "output_type": "display_data"
    }
   ],
   "source": [
    "fig, ax = plt.subplots(1, figsize=(16, 16))\n",
    "\n",
    "waterfall.plot(kind='bar', \n",
    "               bottom=waterfall['bottom'], y='diff', \n",
    "               legend=False, ax=ax, color=bar_colors, width=.8)\n",
    "ax.plot(pos, \n",
    "        waterfall[['top', 'top']].iloc[:-1].T,\n",
    "        color='darkgray', # Color\n",
    "        zorder=-2, #Plot below the current bars\n",
    "        lw=2) # Make the lines thicker\n",
    "\n",
    "# Add the value labels above each bar\n",
    "waterfall.iloc[1:-1].apply(draw_labels, axis=1)\n",
    "\n",
    "# Clean up the original y axis\n",
    "ax.get_yaxis().set_major_formatter(\n",
    "    matplotlib.ticker.FuncFormatter(lambda x, p: format(int(x), ',')))\n",
    "ax.set_ylim(19000, 21500)\n",
    "ax.set_yticks(np.arange(19000, 21501, 200))\n",
    "\n",
    "# Increase tick mark font size\n",
    "ax.tick_params(axis='x', labelsize=20)\n",
    "ax.tick_params(axis='y', labelsize=20)\n",
    "ax.set_ylabel('GDP ($B)', fontsize=28)\n",
    "\n",
    "# Add white horizontal grid lines for readability\n",
    "ax.grid(axis='y', color='white', lw=2)\n",
    "\n",
    "# Add a second y-axis on the right and format it to match the original one\n",
    "ax2 = ax.secondary_yaxis('right')\n",
    "ax2.get_yaxis().set_major_formatter(\n",
    "    matplotlib.ticker.FuncFormatter(lambda x, p: format(int(x), ',')))\n",
    "ax2.set_ylim(19000, 21500)\n",
    "ax2.set_yticks(np.arange(19000, 21501, 200))\n",
    "\n",
    "# Increase tick mark font size\n",
    "ax2.tick_params(axis='x', labelsize=20)\n",
    "ax2.tick_params(axis='y', labelsize=20)"
   ]
  },
  {
   "cell_type": "markdown",
   "metadata": {},
   "source": [
    "<div style=\"width: 100%; overflow: hidden;\">\n",
    "     <img src=\"https://raw.githubusercontent.com/DataForScience/Networks/master/data/D4Sci_logo_full.png\" alt=\"Data For Science, Inc\" align=\"center\" border=\"0\" width=300px> \n",
    "</div>"
   ]
  }
 ],
 "metadata": {
  "_draft": {
   "nbviewer_url": "https://gist.github.com/2e74ff45ff5d673eb4aa14195de9759b"
  },
  "gist": {
   "data": {
    "description": "Waterfall.ipynb",
    "public": true
   },
   "id": "2e74ff45ff5d673eb4aa14195de9759b"
  },
  "kernelspec": {
   "display_name": "Python 3 (ipykernel)",
   "language": "python",
   "name": "python3"
  },
  "language_info": {
   "codemirror_mode": {
    "name": "ipython",
    "version": 3
   },
   "file_extension": ".py",
   "mimetype": "text/x-python",
   "name": "python",
   "nbconvert_exporter": "python",
   "pygments_lexer": "ipython3",
   "version": "3.10.9"
  },
  "varInspector": {
   "cols": {
    "lenName": 16,
    "lenType": 16,
    "lenVar": 40
   },
   "kernels_config": {
    "python": {
     "delete_cmd_postfix": "",
     "delete_cmd_prefix": "del ",
     "library": "var_list.py",
     "varRefreshCmd": "print(var_dic_list())"
    },
    "r": {
     "delete_cmd_postfix": ") ",
     "delete_cmd_prefix": "rm(",
     "library": "var_list.r",
     "varRefreshCmd": "cat(var_dic_list()) "
    }
   },
   "types_to_exclude": [
    "module",
    "function",
    "builtin_function_or_method",
    "instance",
    "_Feature"
   ],
   "window_display": false
  }
 },
 "nbformat": 4,
 "nbformat_minor": 4
}
