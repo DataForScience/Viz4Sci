{
 "cells": [
  {
   "cell_type": "markdown",
   "metadata": {},
   "source": [
    "<div style=\"width: 100%; overflow: hidden;\">\n",
    "    <div style=\"width: 150px; float: left;\"> <img src=\"https://raw.githubusercontent.com/DataForScience/Graphs4Sci/master/data/D4Sci_logo_ball.png\" alt=\"Data For Science, Inc\" align=\"left\" border=\"0\" width=150px> </div>\n",
    "    <div style=\"float: left; margin-left: 10px;\"><h1>Visualization for Science</h1>\n",
    "<h1>Candlestick chart</h1>\n",
    "        <a href=\"http://www.data4sci.com/\">www.data4sci.com</a><br/>\n",
    "            @bgoncalves, @data4sci</p></div>\n",
    "</div>"
   ]
  },
  {
   "cell_type": "code",
   "execution_count": 1,
   "metadata": {},
   "outputs": [],
   "source": [
    "from collections import Counter\n",
    "from pprint import pprint\n",
    "\n",
    "import pandas as pd\n",
    "import numpy as np\n",
    "\n",
    "import matplotlib\n",
    "import matplotlib.pyplot as plt \n",
    "import yfinance as yf\n",
    "\n",
    "import tqdm as tq\n",
    "from tqdm import tqdm\n",
    "\n",
    "import watermark\n",
    "\n",
    "%load_ext watermark\n",
    "%matplotlib inline"
   ]
  },
  {
   "cell_type": "markdown",
   "metadata": {},
   "source": [
    "We start by print out the versions of the libraries we're using for future reference"
   ]
  },
  {
   "cell_type": "code",
   "execution_count": 2,
   "metadata": {},
   "outputs": [
    {
     "name": "stdout",
     "output_type": "stream",
     "text": [
      "Python implementation: CPython\n",
      "Python version       : 3.8.5\n",
      "IPython version      : 7.19.0\n",
      "\n",
      "Compiler    : Clang 10.0.0 \n",
      "OS          : Darwin\n",
      "Release     : 20.6.0\n",
      "Machine     : x86_64\n",
      "Processor   : i386\n",
      "CPU cores   : 16\n",
      "Architecture: 64bit\n",
      "\n",
      "Git hash: 2ca189e6e9c9af68fc07169751f33298eef96492\n",
      "\n",
      "json      : 2.0.9\n",
      "pandas    : 1.1.3\n",
      "yfinance  : 0.1.63\n",
      "tqdm      : 4.62.0\n",
      "watermark : 2.1.0\n",
      "matplotlib: 3.3.2\n",
      "numpy     : 1.19.2\n",
      "\n"
     ]
    }
   ],
   "source": [
    "%watermark -n -v -m -g -iv"
   ]
  },
  {
   "cell_type": "markdown",
   "metadata": {},
   "source": [
    "Set the default colors we'll be using"
   ]
  },
  {
   "cell_type": "code",
   "execution_count": 3,
   "metadata": {},
   "outputs": [],
   "source": [
    "colors = np.array(['#70bf41', '#f9517b'])"
   ]
  },
  {
   "cell_type": "markdown",
   "metadata": {},
   "source": [
    "# DJIA data"
   ]
  },
  {
   "cell_type": "markdown",
   "metadata": {},
   "source": [
    "We start by downling the Dow Jones Industrial Average data using the Yahoo! Finance API"
   ]
  },
  {
   "cell_type": "code",
   "execution_count": 4,
   "metadata": {},
   "outputs": [
    {
     "name": "stdout",
     "output_type": "stream",
     "text": [
      "[*********************100%***********************]  1 of 1 completed\n"
     ]
    }
   ],
   "source": [
    "data = yf.download(\"DJI\", start=\"2020-01-01\", end=\"2021-07-31\", interval='1mo')"
   ]
  },
  {
   "cell_type": "markdown",
   "metadata": {},
   "source": [
    "We collected data from Jan 1st, 2020 until Jul 31st, 2021 at one month resolution, so we get the values indexed by the first day of the month"
   ]
  },
  {
   "cell_type": "code",
   "execution_count": 5,
   "metadata": {},
   "outputs": [
    {
     "data": {
      "text/html": [
       "<div>\n",
       "<style scoped>\n",
       "    .dataframe tbody tr th:only-of-type {\n",
       "        vertical-align: middle;\n",
       "    }\n",
       "\n",
       "    .dataframe tbody tr th {\n",
       "        vertical-align: top;\n",
       "    }\n",
       "\n",
       "    .dataframe thead th {\n",
       "        text-align: right;\n",
       "    }\n",
       "</style>\n",
       "<table border=\"1\" class=\"dataframe\">\n",
       "  <thead>\n",
       "    <tr style=\"text-align: right;\">\n",
       "      <th></th>\n",
       "      <th>Open</th>\n",
       "      <th>High</th>\n",
       "      <th>Low</th>\n",
       "      <th>Close</th>\n",
       "      <th>Adj Close</th>\n",
       "      <th>Volume</th>\n",
       "    </tr>\n",
       "    <tr>\n",
       "      <th>Date</th>\n",
       "      <th></th>\n",
       "      <th></th>\n",
       "      <th></th>\n",
       "      <th></th>\n",
       "      <th></th>\n",
       "      <th></th>\n",
       "    </tr>\n",
       "  </thead>\n",
       "  <tbody>\n",
       "    <tr>\n",
       "      <th>2020-01-01</th>\n",
       "      <td>28634.900391</td>\n",
       "      <td>29348.099609</td>\n",
       "      <td>28256.000000</td>\n",
       "      <td>28256.000000</td>\n",
       "      <td>28256.000000</td>\n",
       "      <td>0</td>\n",
       "    </tr>\n",
       "    <tr>\n",
       "      <th>2020-02-01</th>\n",
       "      <td>28399.800781</td>\n",
       "      <td>29551.400391</td>\n",
       "      <td>25409.400391</td>\n",
       "      <td>27960.800781</td>\n",
       "      <td>27960.800781</td>\n",
       "      <td>0</td>\n",
       "    </tr>\n",
       "    <tr>\n",
       "      <th>2020-03-01</th>\n",
       "      <td>26703.300781</td>\n",
       "      <td>27090.900391</td>\n",
       "      <td>18591.900391</td>\n",
       "      <td>21917.199219</td>\n",
       "      <td>21917.199219</td>\n",
       "      <td>0</td>\n",
       "    </tr>\n",
       "    <tr>\n",
       "      <th>2020-04-01</th>\n",
       "      <td>20943.500000</td>\n",
       "      <td>24633.900391</td>\n",
       "      <td>20943.500000</td>\n",
       "      <td>24345.699219</td>\n",
       "      <td>24345.699219</td>\n",
       "      <td>0</td>\n",
       "    </tr>\n",
       "    <tr>\n",
       "      <th>2020-05-01</th>\n",
       "      <td>23723.699219</td>\n",
       "      <td>25548.300781</td>\n",
       "      <td>23248.000000</td>\n",
       "      <td>25383.099609</td>\n",
       "      <td>25383.099609</td>\n",
       "      <td>0</td>\n",
       "    </tr>\n",
       "  </tbody>\n",
       "</table>\n",
       "</div>"
      ],
      "text/plain": [
       "                    Open          High           Low         Close  \\\n",
       "Date                                                                 \n",
       "2020-01-01  28634.900391  29348.099609  28256.000000  28256.000000   \n",
       "2020-02-01  28399.800781  29551.400391  25409.400391  27960.800781   \n",
       "2020-03-01  26703.300781  27090.900391  18591.900391  21917.199219   \n",
       "2020-04-01  20943.500000  24633.900391  20943.500000  24345.699219   \n",
       "2020-05-01  23723.699219  25548.300781  23248.000000  25383.099609   \n",
       "\n",
       "               Adj Close  Volume  \n",
       "Date                              \n",
       "2020-01-01  28256.000000       0  \n",
       "2020-02-01  27960.800781       0  \n",
       "2020-03-01  21917.199219       0  \n",
       "2020-04-01  24345.699219       0  \n",
       "2020-05-01  25383.099609       0  "
      ]
     },
     "execution_count": 5,
     "metadata": {},
     "output_type": "execute_result"
    }
   ],
   "source": [
    "data.head()"
   ]
  },
  {
   "cell_type": "markdown",
   "metadata": {},
   "source": [
    "The height of each bar will be given by the difference between the Open and Close values so we compute the difference"
   ]
  },
  {
   "cell_type": "code",
   "execution_count": 6,
   "metadata": {},
   "outputs": [],
   "source": [
    "data['height'] = data['Open']-data['Close']"
   ]
  },
  {
   "cell_type": "markdown",
   "metadata": {},
   "source": [
    "And because we want to color the bars by wether the price went up or down, we create another column with the respective color"
   ]
  },
  {
   "cell_type": "code",
   "execution_count": 7,
   "metadata": {},
   "outputs": [],
   "source": [
    "data['colors'] = colors[(data['Open'] > data['Close']).astype('int')] "
   ]
  },
  {
   "cell_type": "code",
   "execution_count": 8,
   "metadata": {},
   "outputs": [
    {
     "data": {
      "text/html": [
       "<div>\n",
       "<style scoped>\n",
       "    .dataframe tbody tr th:only-of-type {\n",
       "        vertical-align: middle;\n",
       "    }\n",
       "\n",
       "    .dataframe tbody tr th {\n",
       "        vertical-align: top;\n",
       "    }\n",
       "\n",
       "    .dataframe thead th {\n",
       "        text-align: right;\n",
       "    }\n",
       "</style>\n",
       "<table border=\"1\" class=\"dataframe\">\n",
       "  <thead>\n",
       "    <tr style=\"text-align: right;\">\n",
       "      <th></th>\n",
       "      <th>Open</th>\n",
       "      <th>High</th>\n",
       "      <th>Low</th>\n",
       "      <th>Close</th>\n",
       "      <th>Adj Close</th>\n",
       "      <th>Volume</th>\n",
       "      <th>height</th>\n",
       "      <th>colors</th>\n",
       "    </tr>\n",
       "    <tr>\n",
       "      <th>Date</th>\n",
       "      <th></th>\n",
       "      <th></th>\n",
       "      <th></th>\n",
       "      <th></th>\n",
       "      <th></th>\n",
       "      <th></th>\n",
       "      <th></th>\n",
       "      <th></th>\n",
       "    </tr>\n",
       "  </thead>\n",
       "  <tbody>\n",
       "    <tr>\n",
       "      <th>2020-01-01</th>\n",
       "      <td>28634.900391</td>\n",
       "      <td>29348.099609</td>\n",
       "      <td>28256.000000</td>\n",
       "      <td>28256.000000</td>\n",
       "      <td>28256.000000</td>\n",
       "      <td>0</td>\n",
       "      <td>378.900391</td>\n",
       "      <td>#f9517b</td>\n",
       "    </tr>\n",
       "    <tr>\n",
       "      <th>2020-02-01</th>\n",
       "      <td>28399.800781</td>\n",
       "      <td>29551.400391</td>\n",
       "      <td>25409.400391</td>\n",
       "      <td>27960.800781</td>\n",
       "      <td>27960.800781</td>\n",
       "      <td>0</td>\n",
       "      <td>439.000000</td>\n",
       "      <td>#f9517b</td>\n",
       "    </tr>\n",
       "    <tr>\n",
       "      <th>2020-03-01</th>\n",
       "      <td>26703.300781</td>\n",
       "      <td>27090.900391</td>\n",
       "      <td>18591.900391</td>\n",
       "      <td>21917.199219</td>\n",
       "      <td>21917.199219</td>\n",
       "      <td>0</td>\n",
       "      <td>4786.101562</td>\n",
       "      <td>#f9517b</td>\n",
       "    </tr>\n",
       "    <tr>\n",
       "      <th>2020-04-01</th>\n",
       "      <td>20943.500000</td>\n",
       "      <td>24633.900391</td>\n",
       "      <td>20943.500000</td>\n",
       "      <td>24345.699219</td>\n",
       "      <td>24345.699219</td>\n",
       "      <td>0</td>\n",
       "      <td>-3402.199219</td>\n",
       "      <td>#70bf41</td>\n",
       "    </tr>\n",
       "    <tr>\n",
       "      <th>2020-05-01</th>\n",
       "      <td>23723.699219</td>\n",
       "      <td>25548.300781</td>\n",
       "      <td>23248.000000</td>\n",
       "      <td>25383.099609</td>\n",
       "      <td>25383.099609</td>\n",
       "      <td>0</td>\n",
       "      <td>-1659.400391</td>\n",
       "      <td>#70bf41</td>\n",
       "    </tr>\n",
       "  </tbody>\n",
       "</table>\n",
       "</div>"
      ],
      "text/plain": [
       "                    Open          High           Low         Close  \\\n",
       "Date                                                                 \n",
       "2020-01-01  28634.900391  29348.099609  28256.000000  28256.000000   \n",
       "2020-02-01  28399.800781  29551.400391  25409.400391  27960.800781   \n",
       "2020-03-01  26703.300781  27090.900391  18591.900391  21917.199219   \n",
       "2020-04-01  20943.500000  24633.900391  20943.500000  24345.699219   \n",
       "2020-05-01  23723.699219  25548.300781  23248.000000  25383.099609   \n",
       "\n",
       "               Adj Close  Volume       height   colors  \n",
       "Date                                                    \n",
       "2020-01-01  28256.000000       0   378.900391  #f9517b  \n",
       "2020-02-01  27960.800781       0   439.000000  #f9517b  \n",
       "2020-03-01  21917.199219       0  4786.101562  #f9517b  \n",
       "2020-04-01  24345.699219       0 -3402.199219  #70bf41  \n",
       "2020-05-01  25383.099609       0 -1659.400391  #70bf41  "
      ]
     },
     "execution_count": 8,
     "metadata": {},
     "output_type": "execute_result"
    }
   ],
   "source": [
    "data.head()"
   ]
  },
  {
   "cell_type": "markdown",
   "metadata": {},
   "source": [
    "Let's see what our plot looks like so far"
   ]
  },
  {
   "cell_type": "code",
   "execution_count": 9,
   "metadata": {},
   "outputs": [
    {
     "data": {
      "text/plain": [
       "<AxesSubplot:xlabel='Date'>"
      ]
     },
     "execution_count": 9,
     "metadata": {},
     "output_type": "execute_result"
    },
    {
     "data": {
      "image/png": "[encoded data removed]",
      "text/plain": [
       "<Figure size 432x288 with 1 Axes>"
      ]
     },
     "metadata": {
      "needs_background": "light"
     },
     "output_type": "display_data"
    }
   ],
   "source": [
    "data.plot(kind='bar', # Bar plot\n",
    "          y='height', # Use the Open/Close difference as the height\n",
    "          bottom=data['Close'], # Start plotting the bar at the Close value\n",
    "          color=data['colors'], # Color each bar by whether the value went up or down\n",
    "          legend=None) # Remove the legend"
   ]
  },
  {
   "cell_type": "markdown",
   "metadata": {},
   "source": [
    "Not a bad start, but there's still plenty of room for improvement"
   ]
  },
  {
   "cell_type": "markdown",
   "metadata": {},
   "source": [
    "Since we'll be using a bar plot, we have to manually specify the axis labels to use as the bar plot doesn't play nicely with datetime objects"
   ]
  },
  {
   "cell_type": "code",
   "execution_count": 10,
   "metadata": {},
   "outputs": [],
   "source": [
    "data.index = (day.strftime('%b')[0] \n",
    "                    if day.strftime('%b') != 'Jan' \n",
    "                    else day.strftime('%b\\n%Y') \n",
    "                    for day in data.index)"
   ]
  },
  {
   "cell_type": "code",
   "execution_count": 11,
   "metadata": {},
   "outputs": [
    {
     "data": {
      "image/png": "[encoded data removed]",
      "text/plain": [
       "<Figure size 432x288 with 1 Axes>"
      ]
     },
     "metadata": {
      "needs_background": "light"
     },
     "output_type": "display_data"
    }
   ],
   "source": [
    "ax = data.plot(kind='bar', y='height', bottom=data['Close'], \n",
    "               color=data['colors'], legend=None)\n",
    "\n",
    "# Set the ticklabels, to undo the default rotation\n",
    "ax.set_xticklabels(data.index, rotation=0); "
   ]
  },
  {
   "cell_type": "markdown",
   "metadata": {},
   "source": [
    "Finally, we add the vertical lines representing the range of values from the heighest to the lowest"
   ]
  },
  {
   "cell_type": "code",
   "execution_count": 12,
   "metadata": {},
   "outputs": [
    {
     "data": {
      "image/png": "[encoded data removed]",
      "text/plain": [
       "<Figure size 432x288 with 1 Axes>"
      ]
     },
     "metadata": {
      "needs_background": "light"
     },
     "output_type": "display_data"
    }
   ],
   "source": [
    "ax = data.plot(kind='bar', y='height', bottom=data['Close'], \n",
    "               color=data['colors'], legend=None)\n",
    "\n",
    "# Add the vertical lines from High to Low\n",
    "ax.plot([np.arange(data.shape[0]), # x-values\n",
    "         np.arange(data.shape[0])], \n",
    "         data[['High', 'Low']].T.values, # y-values\n",
    "         color='darkgray', # Color\n",
    "         zorder=-2, #Plot below the current bars\n",
    "         lw=2) # Make the lines thicker\n",
    "\n",
    "# Set the ticklabels, to undo the default rotation\n",
    "ax.set_xticklabels(data.index, rotation=0); "
   ]
  },
  {
   "cell_type": "markdown",
   "metadata": {},
   "source": [
    "And increase figure and fontsizes to make the figure more legible and remove the upper and right side spines to make it sexier"
   ]
  },
  {
   "cell_type": "code",
   "execution_count": 13,
   "metadata": {},
   "outputs": [
    {
     "data": {
      "image/png": "[encoded data removed]",
      "text/plain": [
       "<Figure size 1008x720 with 1 Axes>"
      ]
     },
     "metadata": {
      "needs_background": "light"
     },
     "output_type": "display_data"
    }
   ],
   "source": [
    "fig, ax = plt.subplots(1, figsize=(14, 10))\n",
    "data.plot(kind='bar', y='height', bottom=data['Close'], \n",
    "               color=data['colors'], legend=None, ax=ax)\n",
    "\n",
    "# Add the vertical lines from High to Low\n",
    "ax.plot([np.arange(data.shape[0]), # x-values\n",
    "         np.arange(data.shape[0])], \n",
    "         data[['High', 'Low']].T.values, # y-values\n",
    "         color='darkgray', # Color\n",
    "         zorder=-2, #Plot below the current bars\n",
    "         lw=2) # Make the lines thicker\n",
    "\n",
    "# Set the correct labels\n",
    "ax.set_ylabel('DJIA', fontsize=24.0)\n",
    "\n",
    "# Increase tick mark font size\n",
    "ax.tick_params(axis='x', labelsize=20)\n",
    "ax.tick_params(axis='y', labelsize=20)\n",
    "\n",
    "# Set the ticklabels, to undo the default rotation\n",
    "ax.set_xticklabels(data.index, rotation=0)\n",
    "\n",
    "# Add commas to the y-labels\n",
    "ax.get_yaxis().set_major_formatter(\n",
    "    matplotlib.ticker.FuncFormatter(lambda x, p: format(int(x), ',')))\n",
    "\n",
    "# Hide the right and top spines\n",
    "ax.spines['right'].set_visible(False)\n",
    "ax.spines['top'].set_visible(False)"
   ]
  },
  {
   "cell_type": "markdown",
   "metadata": {},
   "source": [
    "<div style=\"width: 100%; overflow: hidden;\">\n",
    "     <img src=\"https://raw.githubusercontent.com/DataForScience/Graphs4Sci/master/data/D4Sci_logo_full.png\" alt=\"Data For Science, Inc\" align=\"center\" border=\"0\" width=300px> \n",
    "</div>"
   ]
  }
 ],
 "metadata": {
  "_draft": {
   "nbviewer_url": "https://gist.github.com/f132f4030ee38963ebd4e7f8dc11587e"
  },
  "gist": {
   "data": {
    "description": "Candlestick Chart.ipynb",
    "public": true
   },
   "id": "f132f4030ee38963ebd4e7f8dc11587e"
  },
  "kernelspec": {
   "display_name": "Python 3",
   "language": "python",
   "name": "python3"
  },
  "language_info": {
   "codemirror_mode": {
    "name": "ipython",
    "version": 3
   },
   "file_extension": ".py",
   "mimetype": "text/x-python",
   "name": "python",
   "nbconvert_exporter": "python",
   "pygments_lexer": "ipython3",
   "version": "3.8.5"
  },
  "varInspector": {
   "cols": {
    "lenName": 16,
    "lenType": 16,
    "lenVar": 40
   },
   "kernels_config": {
    "python": {
     "delete_cmd_postfix": "",
     "delete_cmd_prefix": "del ",
     "library": "var_list.py",
     "varRefreshCmd": "print(var_dic_list())"
    },
    "r": {
     "delete_cmd_postfix": ") ",
     "delete_cmd_prefix": "rm(",
     "library": "var_list.r",
     "varRefreshCmd": "cat(var_dic_list()) "
    }
   },
   "types_to_exclude": [
    "module",
    "function",
    "builtin_function_or_method",
    "instance",
    "_Feature"
   ],
   "window_display": false
  }
 },
 "nbformat": 4,
 "nbformat_minor": 4
}
