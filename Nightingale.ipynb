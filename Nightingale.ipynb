{
 "cells": [
  {
   "cell_type": "markdown",
   "metadata": {},
   "source": [
    "<div style=\"width: 100%; overflow: hidden;\">\n",
    "    <div style=\"width: 150px; float: left;\"> <img src=\"https://raw.githubusercontent.com/DataForScience/Graphs4Sci/master/data/D4Sci_logo_ball.png\" alt=\"Data For Science, Inc\" align=\"left\" border=\"0\" width=150px> </div>\n",
    "    <div style=\"float: left; margin-left: 10px;\"><h1>Visualization for Science</h1>\n",
    "<h1>Nightingale Plot</h1>\n",
    "        <a href=\"http://www.data4sci.com/\">www.data4sci.com</a><br/>\n",
    "            @bgoncalves, @data4sci</p></div>\n",
    "</div>"
   ]
  },
  {
   "cell_type": "code",
   "execution_count": 1,
   "metadata": {},
   "outputs": [],
   "source": [
    "import pandas as pd\n",
    "import numpy as np\n",
    "\n",
    "import matplotlib\n",
    "import matplotlib.pyplot as plt \n",
    "from matplotlib.patches import Wedge, Patch\n",
    "from matplotlib.collections import PatchCollection\n",
    "import matplotlib.font_manager as font_manager\n",
    "\n",
    "import watermark\n",
    "\n",
    "%load_ext watermark\n",
    "%matplotlib inline"
   ]
  },
  {
   "cell_type": "markdown",
   "metadata": {},
   "source": [
    "We start by print out the versions of the libraries we're using for future reference"
   ]
  },
  {
   "cell_type": "code",
   "execution_count": 2,
   "metadata": {},
   "outputs": [
    {
     "name": "stdout",
     "output_type": "stream",
     "text": [
      "Python implementation: CPython\n",
      "Python version       : 3.8.5\n",
      "IPython version      : 7.19.0\n",
      "\n",
      "Compiler    : Clang 10.0.0 \n",
      "OS          : Darwin\n",
      "Release     : 20.6.0\n",
      "Machine     : x86_64\n",
      "Processor   : i386\n",
      "CPU cores   : 16\n",
      "Architecture: 64bit\n",
      "\n",
      "Git hash: 9fa3dbd9d128a84e679d23456a0b79a628fff382\n",
      "\n",
      "numpy     : 1.19.2\n",
      "json      : 2.0.9\n",
      "watermark : 2.1.0\n",
      "matplotlib: 3.3.2\n",
      "pandas    : 1.1.3\n",
      "\n"
     ]
    }
   ],
   "source": [
    "%watermark -n -v -m -g -iv"
   ]
  },
  {
   "cell_type": "markdown",
   "metadata": {},
   "source": [
    "# Load the dataset"
   ]
  },
  {
   "cell_type": "code",
   "execution_count": 3,
   "metadata": {},
   "outputs": [],
   "source": [
    "data = pd.read_excel('https://github.com/DataForScience/Viz4Sci/raw/master/data/Nightingale.xlsx')"
   ]
  },
  {
   "cell_type": "code",
   "execution_count": 4,
   "metadata": {},
   "outputs": [
    {
     "data": {
      "text/html": [
       "<div>\n",
       "<style scoped>\n",
       "    .dataframe tbody tr th:only-of-type {\n",
       "        vertical-align: middle;\n",
       "    }\n",
       "\n",
       "    .dataframe tbody tr th {\n",
       "        vertical-align: top;\n",
       "    }\n",
       "\n",
       "    .dataframe thead th {\n",
       "        text-align: right;\n",
       "    }\n",
       "</style>\n",
       "<table border=\"1\" class=\"dataframe\">\n",
       "  <thead>\n",
       "    <tr style=\"text-align: right;\">\n",
       "      <th></th>\n",
       "      <th>Month</th>\n",
       "      <th>Year</th>\n",
       "      <th>Cause of Death</th>\n",
       "      <th>Monthly Death Total</th>\n",
       "      <th>Annual Mortality Rate (per 1000 soldiers)</th>\n",
       "    </tr>\n",
       "  </thead>\n",
       "  <tbody>\n",
       "    <tr>\n",
       "      <th>0</th>\n",
       "      <td>April</td>\n",
       "      <td>1854</td>\n",
       "      <td>Infectious Disease</td>\n",
       "      <td>1</td>\n",
       "      <td>1.4</td>\n",
       "    </tr>\n",
       "    <tr>\n",
       "      <th>1</th>\n",
       "      <td>May</td>\n",
       "      <td>1854</td>\n",
       "      <td>Infectious Disease</td>\n",
       "      <td>12</td>\n",
       "      <td>6.2</td>\n",
       "    </tr>\n",
       "    <tr>\n",
       "      <th>2</th>\n",
       "      <td>June</td>\n",
       "      <td>1854</td>\n",
       "      <td>Infectious Disease</td>\n",
       "      <td>11</td>\n",
       "      <td>4.7</td>\n",
       "    </tr>\n",
       "    <tr>\n",
       "      <th>3</th>\n",
       "      <td>July</td>\n",
       "      <td>1854</td>\n",
       "      <td>Infectious Disease</td>\n",
       "      <td>359</td>\n",
       "      <td>150.0</td>\n",
       "    </tr>\n",
       "    <tr>\n",
       "      <th>4</th>\n",
       "      <td>August</td>\n",
       "      <td>1854</td>\n",
       "      <td>Infectious Disease</td>\n",
       "      <td>828</td>\n",
       "      <td>328.5</td>\n",
       "    </tr>\n",
       "  </tbody>\n",
       "</table>\n",
       "</div>"
      ],
      "text/plain": [
       "    Month  Year      Cause of Death  Monthly Death Total  \\\n",
       "0   April  1854  Infectious Disease                    1   \n",
       "1     May  1854  Infectious Disease                   12   \n",
       "2    June  1854  Infectious Disease                   11   \n",
       "3    July  1854  Infectious Disease                  359   \n",
       "4  August  1854  Infectious Disease                  828   \n",
       "\n",
       "   Annual Mortality Rate (per 1000 soldiers)  \n",
       "0                                        1.4  \n",
       "1                                        6.2  \n",
       "2                                        4.7  \n",
       "3                                      150.0  \n",
       "4                                      328.5  "
      ]
     },
     "execution_count": 4,
     "metadata": {},
     "output_type": "execute_result"
    }
   ],
   "source": [
    "data.head()"
   ]
  },
  {
   "cell_type": "markdown",
   "metadata": {},
   "source": [
    "Combine month and year into a single column"
   ]
  },
  {
   "cell_type": "code",
   "execution_count": 5,
   "metadata": {},
   "outputs": [],
   "source": [
    "data['date'] = data[['Month', 'Year']].apply(lambda x:x['Month'] + ' ' + str(x['Year']), axis=1)"
   ]
  },
  {
   "cell_type": "markdown",
   "metadata": {},
   "source": [
    "Pivot data into a table with each cause of death as a column. We're keeping only the mortality rate."
   ]
  },
  {
   "cell_type": "code",
   "execution_count": 6,
   "metadata": {},
   "outputs": [],
   "source": [
    "infectious = pd.pivot_table(data, index='date', columns='Cause of Death', \n",
    "                            values='Annual Mortality Rate (per 1000 soldiers)', aggfunc='sum')"
   ]
  },
  {
   "cell_type": "code",
   "execution_count": 7,
   "metadata": {},
   "outputs": [
    {
     "data": {
      "text/html": [
       "<div>\n",
       "<style scoped>\n",
       "    .dataframe tbody tr th:only-of-type {\n",
       "        vertical-align: middle;\n",
       "    }\n",
       "\n",
       "    .dataframe tbody tr th {\n",
       "        vertical-align: top;\n",
       "    }\n",
       "\n",
       "    .dataframe thead th {\n",
       "        text-align: right;\n",
       "    }\n",
       "</style>\n",
       "<table border=\"1\" class=\"dataframe\">\n",
       "  <thead>\n",
       "    <tr style=\"text-align: right;\">\n",
       "      <th>Cause of Death</th>\n",
       "      <th>All Other Causes</th>\n",
       "      <th>Infectious Disease</th>\n",
       "      <th>Wounds and Injuries</th>\n",
       "    </tr>\n",
       "    <tr>\n",
       "      <th>date</th>\n",
       "      <th></th>\n",
       "      <th></th>\n",
       "      <th></th>\n",
       "    </tr>\n",
       "  </thead>\n",
       "  <tbody>\n",
       "    <tr>\n",
       "      <th>April 1854</th>\n",
       "      <td>7.0</td>\n",
       "      <td>1.4</td>\n",
       "      <td>0.0</td>\n",
       "    </tr>\n",
       "    <tr>\n",
       "      <th>April 1855</th>\n",
       "      <td>21.2</td>\n",
       "      <td>177.5</td>\n",
       "      <td>17.9</td>\n",
       "    </tr>\n",
       "    <tr>\n",
       "      <th>August 1854</th>\n",
       "      <td>11.9</td>\n",
       "      <td>328.5</td>\n",
       "      <td>0.4</td>\n",
       "    </tr>\n",
       "    <tr>\n",
       "      <th>August 1855</th>\n",
       "      <td>6.7</td>\n",
       "      <td>129.9</td>\n",
       "      <td>44.1</td>\n",
       "    </tr>\n",
       "    <tr>\n",
       "      <th>December 1854</th>\n",
       "      <td>48.0</td>\n",
       "      <td>631.5</td>\n",
       "      <td>41.7</td>\n",
       "    </tr>\n",
       "    <tr>\n",
       "      <th>December 1855</th>\n",
       "      <td>7.8</td>\n",
       "      <td>25.3</td>\n",
       "      <td>5.0</td>\n",
       "    </tr>\n",
       "    <tr>\n",
       "      <th>February 1855</th>\n",
       "      <td>140.1</td>\n",
       "      <td>822.8</td>\n",
       "      <td>16.3</td>\n",
       "    </tr>\n",
       "    <tr>\n",
       "      <th>February 1856</th>\n",
       "      <td>5.2</td>\n",
       "      <td>6.6</td>\n",
       "      <td>0.0</td>\n",
       "    </tr>\n",
       "    <tr>\n",
       "      <th>January 1855</th>\n",
       "      <td>120.0</td>\n",
       "      <td>1022.8</td>\n",
       "      <td>30.7</td>\n",
       "    </tr>\n",
       "    <tr>\n",
       "      <th>January 1856</th>\n",
       "      <td>13.0</td>\n",
       "      <td>11.4</td>\n",
       "      <td>0.5</td>\n",
       "    </tr>\n",
       "    <tr>\n",
       "      <th>July 1854</th>\n",
       "      <td>9.6</td>\n",
       "      <td>150.0</td>\n",
       "      <td>0.0</td>\n",
       "    </tr>\n",
       "    <tr>\n",
       "      <th>July 1855</th>\n",
       "      <td>9.3</td>\n",
       "      <td>107.5</td>\n",
       "      <td>37.7</td>\n",
       "    </tr>\n",
       "    <tr>\n",
       "      <th>June 1854</th>\n",
       "      <td>2.5</td>\n",
       "      <td>4.7</td>\n",
       "      <td>0.0</td>\n",
       "    </tr>\n",
       "    <tr>\n",
       "      <th>June 1855</th>\n",
       "      <td>9.6</td>\n",
       "      <td>247.6</td>\n",
       "      <td>64.5</td>\n",
       "    </tr>\n",
       "    <tr>\n",
       "      <th>March 1855</th>\n",
       "      <td>68.6</td>\n",
       "      <td>480.3</td>\n",
       "      <td>12.8</td>\n",
       "    </tr>\n",
       "    <tr>\n",
       "      <th>March 1856</th>\n",
       "      <td>9.1</td>\n",
       "      <td>3.9</td>\n",
       "      <td>0.0</td>\n",
       "    </tr>\n",
       "    <tr>\n",
       "      <th>May 1854</th>\n",
       "      <td>4.6</td>\n",
       "      <td>6.2</td>\n",
       "      <td>0.0</td>\n",
       "    </tr>\n",
       "    <tr>\n",
       "      <th>May 1855</th>\n",
       "      <td>12.5</td>\n",
       "      <td>171.8</td>\n",
       "      <td>16.6</td>\n",
       "    </tr>\n",
       "    <tr>\n",
       "      <th>November 1854</th>\n",
       "      <td>42.8</td>\n",
       "      <td>340.6</td>\n",
       "      <td>115.8</td>\n",
       "    </tr>\n",
       "    <tr>\n",
       "      <th>November 1855</th>\n",
       "      <td>10.1</td>\n",
       "      <td>56.4</td>\n",
       "      <td>10.5</td>\n",
       "    </tr>\n",
       "    <tr>\n",
       "      <th>October 1854</th>\n",
       "      <td>50.1</td>\n",
       "      <td>197.0</td>\n",
       "      <td>51.7</td>\n",
       "    </tr>\n",
       "    <tr>\n",
       "      <th>October 1855</th>\n",
       "      <td>4.6</td>\n",
       "      <td>32.8</td>\n",
       "      <td>13.6</td>\n",
       "    </tr>\n",
       "    <tr>\n",
       "      <th>September 1854</th>\n",
       "      <td>27.7</td>\n",
       "      <td>312.2</td>\n",
       "      <td>32.1</td>\n",
       "    </tr>\n",
       "    <tr>\n",
       "      <th>September 1855</th>\n",
       "      <td>5.0</td>\n",
       "      <td>47.5</td>\n",
       "      <td>69.4</td>\n",
       "    </tr>\n",
       "  </tbody>\n",
       "</table>\n",
       "</div>"
      ],
      "text/plain": [
       "Cause of Death  All Other Causes  Infectious Disease  Wounds and Injuries\n",
       "date                                                                     \n",
       "April 1854                   7.0                 1.4                  0.0\n",
       "April 1855                  21.2               177.5                 17.9\n",
       "August 1854                 11.9               328.5                  0.4\n",
       "August 1855                  6.7               129.9                 44.1\n",
       "December 1854               48.0               631.5                 41.7\n",
       "December 1855                7.8                25.3                  5.0\n",
       "February 1855              140.1               822.8                 16.3\n",
       "February 1856                5.2                 6.6                  0.0\n",
       "January 1855               120.0              1022.8                 30.7\n",
       "January 1856                13.0                11.4                  0.5\n",
       "July 1854                    9.6               150.0                  0.0\n",
       "July 1855                    9.3               107.5                 37.7\n",
       "June 1854                    2.5                 4.7                  0.0\n",
       "June 1855                    9.6               247.6                 64.5\n",
       "March 1855                  68.6               480.3                 12.8\n",
       "March 1856                   9.1                 3.9                  0.0\n",
       "May 1854                     4.6                 6.2                  0.0\n",
       "May 1855                    12.5               171.8                 16.6\n",
       "November 1854               42.8               340.6                115.8\n",
       "November 1855               10.1                56.4                 10.5\n",
       "October 1854                50.1               197.0                 51.7\n",
       "October 1855                 4.6                32.8                 13.6\n",
       "September 1854              27.7               312.2                 32.1\n",
       "September 1855               5.0                47.5                 69.4"
      ]
     },
     "execution_count": 7,
     "metadata": {},
     "output_type": "execute_result"
    }
   ],
   "source": [
    "infectious"
   ]
  },
  {
   "cell_type": "markdown",
   "metadata": {},
   "source": [
    "Put the columns in the right order"
   ]
  },
  {
   "cell_type": "code",
   "execution_count": 8,
   "metadata": {},
   "outputs": [],
   "source": [
    "infectious = infectious[['Wounds and Injuries', 'All Other Causes', 'Infectious Disease', ]]"
   ]
  },
  {
   "cell_type": "markdown",
   "metadata": {},
   "source": [
    "Normalize values"
   ]
  },
  {
   "cell_type": "code",
   "execution_count": 9,
   "metadata": {},
   "outputs": [],
   "source": [
    "infectious = (infectious**2).cumsum(axis=1)\n",
    "infectious /= infectious.max().max()\n",
    "infectious = np.sqrt(infectious)"
   ]
  },
  {
   "cell_type": "markdown",
   "metadata": {},
   "source": [
    "Subset and order the rows"
   ]
  },
  {
   "cell_type": "code",
   "execution_count": 10,
   "metadata": {},
   "outputs": [],
   "source": [
    "order = [\n",
    " 'April 1854',   'May 1854',        'June 1854', \n",
    " 'July 1854',    'August 1854',     'September 1854', \n",
    " 'October 1854', 'November 1854', 'December 1854',\n",
    " 'January 1855', 'February 1855', 'March 1855',]\n",
    "\n",
    "infectious = infectious.loc[order].reset_index()\n",
    "infectious = infectious[::-1]"
   ]
  },
  {
   "cell_type": "markdown",
   "metadata": {},
   "source": [
    "Color list"
   ]
  },
  {
   "cell_type": "code",
   "execution_count": 11,
   "metadata": {},
   "outputs": [],
   "source": [
    "colors =['#51a7f9',  'black', '#f9517b', ]"
   ]
  },
  {
   "cell_type": "markdown",
   "metadata": {},
   "source": [
    "Generate the figure"
   ]
  },
  {
   "cell_type": "code",
   "execution_count": 12,
   "metadata": {},
   "outputs": [
    {
     "data": {
      "image/png": "[encoded data removed]",
      "text/plain": [
       "<Figure size 720x720 with 1 Axes>"
      ]
     },
     "metadata": {
      "needs_background": "light"
     },
     "output_type": "display_data"
    }
   ],
   "source": [
    "fig, ax = plt.subplots(1, figsize=(10, 10))\n",
    "ax.set_aspect(1.)\n",
    "\n",
    "patches = []\n",
    "color = []\n",
    "total = 90 # First wedge starts off at 90'\n",
    "angle = 30 # Each wedge covers 30'\n",
    "\n",
    "for i in range(infectious.shape[0])[::1]:\n",
    "    for j, col in enumerate(['Infectious Disease', \n",
    "                             'All Other Causes', \n",
    "                             'Wounds and Injuries', ]):\n",
    "        value = infectious[col].iloc[i]\n",
    "        patches.append(Wedge((0, 0), np.sqrt(value), \n",
    "                                     total,\n",
    "                                     total+angle\n",
    "                                     ))\n",
    "        color.append(colors[j])\n",
    "    \n",
    "    length = np.max([np.sqrt(infectious.iloc[i, 1:4].max())+0.02, 0.4])\n",
    "    x = length * np.cos((total+angle/2)*np.pi/180)\n",
    "    y = length * np.sin((total+angle/2)*np.pi/180)\n",
    "    \n",
    "    label = infectious['date'].iloc[i]\n",
    "        \n",
    "    if label[:3] not in ['Mar', 'Jan', 'Apr']:\n",
    "        label = label.split()[0]\n",
    "    elif label[:3] == 'Apr':\n",
    "        label = '\\n'.join(label.split())\n",
    "    \n",
    "    ax.text(x, y, label.upper(), rotation=(total+angle/2-90), \n",
    "            ha='center', va='center', fontsize=12)\n",
    "    \n",
    "    total += angle\n",
    "\n",
    "p = PatchCollection(patches, color=color, alpha=0.5)\n",
    "ax.add_collection(p)\n",
    "ax.set_xlim(-1.2, 1.2)\n",
    "ax.set_ylim(-1.2, 1.2)\n",
    "\n",
    "patches = []\n",
    "legend = ['deaths from preventable diseases', \n",
    "          'deaths from wounds', \n",
    "          'deaths from all other sources']\n",
    "\n",
    "# you'll need to change the font location\n",
    "font = font_manager.FontProperties(fname='/Users/bgoncalves/Library/Fonts/Lucida Calligraphy Italic.ttf',\n",
    "                               weight='normal',\n",
    "                               style='italic', size=16)\n",
    "\n",
    "for i, leg in enumerate(legend):\n",
    "    patches.append(Patch(color=colors[i], label=leg, alpha=0.5))\n",
    "\n",
    "ax.legend(handles=patches, loc=(0.5, 0.7), \n",
    "          fancybox=False, frameon=False, prop=font)\n",
    "\n",
    "ax.axis('off')\n",
    "fig.tight_layout()"
   ]
  },
  {
   "cell_type": "markdown",
   "metadata": {},
   "source": [
    "Which compares nicely with the original"
   ]
  },
  {
   "cell_type": "markdown",
   "metadata": {},
   "source": [
    "<img src='https://pbs.twimg.com/media/BqzygKNCUAEHaNf?format=png&name=small'>"
   ]
  },
  {
   "cell_type": "markdown",
   "metadata": {},
   "source": [
    "<div style=\"width: 100%; overflow: hidden;\">\n",
    "     <img src=\"https://raw.githubusercontent.com/DataForScience/Graphs4Sci/master/data/D4Sci_logo_full.png\" alt=\"Data For Science, Inc\" align=\"center\" border=\"0\" width=300px> \n",
    "</div>"
   ]
  }
 ],
 "metadata": {
  "_draft": {
   "nbviewer_url": "https://gist.github.com/f16d157de3323e19dee6ad9c05b841b7"
  },
  "gist": {
   "data": {
    "description": "Nightingale.ipynb",
    "public": true
   },
   "id": "f16d157de3323e19dee6ad9c05b841b7"
  },
  "kernelspec": {
   "display_name": "Python 3",
   "language": "python",
   "name": "python3"
  },
  "language_info": {
   "codemirror_mode": {
    "name": "ipython",
    "version": 3
   },
   "file_extension": ".py",
   "mimetype": "text/x-python",
   "name": "python",
   "nbconvert_exporter": "python",
   "pygments_lexer": "ipython3",
   "version": "3.8.5"
  },
  "toc": {
   "base_numbering": 1,
   "nav_menu": {},
   "number_sections": true,
   "sideBar": true,
   "skip_h1_title": true,
   "title_cell": "Table of Contents",
   "title_sidebar": "Contents",
   "toc_cell": false,
   "toc_position": {},
   "toc_section_display": true,
   "toc_window_display": false
  },
  "varInspector": {
   "cols": {
    "lenName": 16,
    "lenType": 16,
    "lenVar": 40
   },
   "kernels_config": {
    "python": {
     "delete_cmd_postfix": "",
     "delete_cmd_prefix": "del ",
     "library": "var_list.py",
     "varRefreshCmd": "print(var_dic_list())"
    },
    "r": {
     "delete_cmd_postfix": ") ",
     "delete_cmd_prefix": "rm(",
     "library": "var_list.r",
     "varRefreshCmd": "cat(var_dic_list()) "
    }
   },
   "types_to_exclude": [
    "module",
    "function",
    "builtin_function_or_method",
    "instance",
    "_Feature"
   ],
   "window_display": false
  }
 },
 "nbformat": 4,
 "nbformat_minor": 2
}
